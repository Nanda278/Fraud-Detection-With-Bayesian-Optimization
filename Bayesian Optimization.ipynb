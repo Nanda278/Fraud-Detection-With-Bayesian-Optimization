{
 "cells": [
  {
   "cell_type": "code",
   "execution_count": 37,
   "metadata": {},
   "outputs": [
    {
     "data": {
      "text/html": [
       "<div>\n",
       "<style scoped>\n",
       "    .dataframe tbody tr th:only-of-type {\n",
       "        vertical-align: middle;\n",
       "    }\n",
       "\n",
       "    .dataframe tbody tr th {\n",
       "        vertical-align: top;\n",
       "    }\n",
       "\n",
       "    .dataframe thead th {\n",
       "        text-align: right;\n",
       "    }\n",
       "</style>\n",
       "<table border=\"1\" class=\"dataframe\">\n",
       "  <thead>\n",
       "    <tr style=\"text-align: right;\">\n",
       "      <th></th>\n",
       "      <th>Unnamed: 0</th>\n",
       "      <th>ip</th>\n",
       "      <th>app</th>\n",
       "      <th>device</th>\n",
       "      <th>os</th>\n",
       "      <th>channel</th>\n",
       "    </tr>\n",
       "  </thead>\n",
       "  <tbody>\n",
       "    <tr>\n",
       "      <th>0</th>\n",
       "      <td>0</td>\n",
       "      <td>83230</td>\n",
       "      <td>3</td>\n",
       "      <td>1</td>\n",
       "      <td>13</td>\n",
       "      <td>379</td>\n",
       "    </tr>\n",
       "    <tr>\n",
       "      <th>1</th>\n",
       "      <td>1</td>\n",
       "      <td>17357</td>\n",
       "      <td>3</td>\n",
       "      <td>1</td>\n",
       "      <td>19</td>\n",
       "      <td>379</td>\n",
       "    </tr>\n",
       "    <tr>\n",
       "      <th>2</th>\n",
       "      <td>2</td>\n",
       "      <td>35810</td>\n",
       "      <td>3</td>\n",
       "      <td>1</td>\n",
       "      <td>13</td>\n",
       "      <td>379</td>\n",
       "    </tr>\n",
       "    <tr>\n",
       "      <th>3</th>\n",
       "      <td>3</td>\n",
       "      <td>45745</td>\n",
       "      <td>14</td>\n",
       "      <td>1</td>\n",
       "      <td>13</td>\n",
       "      <td>478</td>\n",
       "    </tr>\n",
       "    <tr>\n",
       "      <th>4</th>\n",
       "      <td>4</td>\n",
       "      <td>161007</td>\n",
       "      <td>3</td>\n",
       "      <td>1</td>\n",
       "      <td>13</td>\n",
       "      <td>379</td>\n",
       "    </tr>\n",
       "  </tbody>\n",
       "</table>\n",
       "</div>"
      ],
      "text/plain": [
       "   Unnamed: 0      ip  app  device  os  channel\n",
       "0           0   83230    3       1  13      379\n",
       "1           1   17357    3       1  19      379\n",
       "2           2   35810    3       1  13      379\n",
       "3           3   45745   14       1  13      478\n",
       "4           4  161007    3       1  13      379"
      ]
     },
     "execution_count": 37,
     "metadata": {},
     "output_type": "execute_result"
    }
   ],
   "source": [
    "import pandas as pd\n",
    "import numpy as np\n",
    "import xgboost as xgb\n",
    "\n",
    "from skopt import BayesSearchCV\n",
    "from sklearn.model_selection import StratifiedShuffleSplit\n",
    "import matplotlib.pyplot as plt\n",
    "\n",
    "\n",
    "\n",
    "# Load data\n",
    "inputData = pd.read_csv(\n",
    "    'data/train.csv', \n",
    "    nrows=100000\n",
    ")\n",
    "\n",
    "#X.to_csv(\"data/train.csv\")\n",
    "#print(X.head())\n",
    "# Split into X and y\n",
    "\n",
    "y = inputData['is_attributed']\n",
    "inputData = inputData.drop(['click_time','is_attributed', 'attributed_time'], axis=1)\n",
    "inputData.head()"
   ]
  },
  {
   "cell_type": "code",
   "execution_count": 38,
   "metadata": {},
   "outputs": [
    {
     "name": "stdout",
     "output_type": "stream",
     "text": [
      "Counter({0: 99831, 1: 169})\n"
     ]
    },
    {
     "data": {
      "image/png": "[encoded data removed]",
      "text/plain": [
       "<Figure size 432x288 with 1 Axes>"
      ]
     },
     "metadata": {
      "needs_background": "light"
     },
     "output_type": "display_data"
    }
   ],
   "source": [
    "labels =['Fraudlent','Un-Fraudlent']\n",
    "index = np.arange(len(labels))\n",
    "from collections import Counter\n",
    "print(Counter(y))\n",
    "totalSplits = Counter(y)\n",
    "values = [totalSplits[0],totalSplits[1]]\n",
    "plt.bar(labels, values)\n",
    "plt.xlabel('Type', fontsize=10)\n",
    "plt.ylabel('Count', fontsize=10)\n",
    "plt.xticks(index, labels, fontsize=10, rotation=30)\n",
    "plt.title('Target Value distribution')\n",
    "plt.show()"
   ]
  },
  {
   "cell_type": "code",
   "execution_count": 39,
   "metadata": {},
   "outputs": [],
   "source": [
    "bayes_cv = BayesSearchCV(\n",
    "    estimator = xgb.XGBClassifier(\n",
    "        n_jobs = 1,\n",
    "        objective = 'binary:logistic',\n",
    "        eval_metric = 'auc',\n",
    "        silent=1,\n",
    "        tree_method='exact'\n",
    "    ),\n",
    "    search_spaces = {\n",
    "        'learning_rate': (0.01, 1.0, 'log-uniform'),\n",
    "        'min_child_weight': (0, 10),\n",
    "        'max_depth': (0, 50),\n",
    "        'max_delta_step': (0, 20),\n",
    "        'subsample': (0.01, 1.0, 'uniform'),\n",
    "        'colsample_bytree': (0.01, 1.0, 'uniform'),\n",
    "        'colsample_bylevel': (0.01, 1.0, 'uniform'),\n",
    "        'reg_lambda': (1e-9, 1000, 'log-uniform'),\n",
    "        'reg_alpha': (1e-9, 1.0, 'log-uniform'),\n",
    "        'gamma': (1e-9, 0.5, 'log-uniform'),\n",
    "        'min_child_weight': (0, 5),\n",
    "        'n_estimators': (50, 100),\n",
    "        'scale_pos_weight': (1e-6, 500, 'log-uniform')\n",
    "    },    \n",
    "    scoring = 'roc_auc',\n",
    "    cv = StratifiedShuffleSplit(\n",
    "        n_splits=3,\n",
    "        random_state=42\n",
    "    ),\n",
    "    n_jobs = 3,\n",
    "    n_iter = 10,   \n",
    "    verbose = 0,\n",
    "    refit = True,\n",
    "    random_state = 42\n",
    ")\n",
    "\n",
    "def print_iterations(optim_result):\n",
    "    \"\"\"Status callback durring bayesian hyperparameter search\"\"\"\n",
    "    \n",
    "    # Get all the models tested so far in DataFrame format\n",
    "    all_models = pd.DataFrame(bayes_cv.cv_results_)    \n",
    "    \n",
    "    # Get current parameters and the best parameters    \n",
    "    best_params = pd.Series(bayes_cv.best_params_)\n",
    "    print('Iteration -{}\\nROC-AUC Values is: {}\\n params Chosen here: {}\\n'.format(\n",
    "        len(all_models),\n",
    "        np.round(bayes_cv.best_score_, 4),\n",
    "        bayes_cv.best_params_\n",
    "    ))"
   ]
  },
  {
   "cell_type": "code",
   "execution_count": 40,
   "metadata": {},
   "outputs": [
    {
     "name": "stdout",
     "output_type": "stream",
     "text": [
      "Iteration -1\n",
      "ROC-AUC Values is: 0.5\n",
      " params Chosen here: {'colsample_bylevel': 0.4160029192647807, 'colsample_bytree': 0.7304484857455519, 'gamma': 0.13031389926541354, 'learning_rate': 0.042815319280763466, 'max_delta_step': 13, 'max_depth': 21, 'min_child_weight': 2, 'n_estimators': 87, 'reg_alpha': 5.497557739289786e-07, 'reg_lambda': 0.05936070635912049, 'scale_pos_weight': 0.060830282487222144, 'subsample': 0.13556548021189216}\n",
      "\n",
      "Iteration -2\n",
      "ROC-AUC Values is: 0.8719\n",
      " params Chosen here: {'colsample_bylevel': 0.8390144719977516, 'colsample_bytree': 0.8844821246070537, 'gamma': 4.358684608480795e-07, 'learning_rate': 0.7988179462781242, 'max_delta_step': 17, 'max_depth': 3, 'min_child_weight': 1, 'n_estimators': 68, 'reg_alpha': 0.0005266983003701547, 'reg_lambda': 276.5424475574225, 'scale_pos_weight': 0.3016410771843142, 'subsample': 0.9923710598637134}\n",
      "\n",
      "Iteration -3\n",
      "ROC-AUC Values is: 0.8719\n",
      " params Chosen here: {'colsample_bylevel': 0.8390144719977516, 'colsample_bytree': 0.8844821246070537, 'gamma': 4.358684608480795e-07, 'learning_rate': 0.7988179462781242, 'max_delta_step': 17, 'max_depth': 3, 'min_child_weight': 1, 'n_estimators': 68, 'reg_alpha': 0.0005266983003701547, 'reg_lambda': 276.5424475574225, 'scale_pos_weight': 0.3016410771843142, 'subsample': 0.9923710598637134}\n",
      "\n",
      "Iteration -4\n",
      "ROC-AUC Values is: 0.8719\n",
      " params Chosen here: {'colsample_bylevel': 0.8390144719977516, 'colsample_bytree': 0.8844821246070537, 'gamma': 4.358684608480795e-07, 'learning_rate': 0.7988179462781242, 'max_delta_step': 17, 'max_depth': 3, 'min_child_weight': 1, 'n_estimators': 68, 'reg_alpha': 0.0005266983003701547, 'reg_lambda': 276.5424475574225, 'scale_pos_weight': 0.3016410771843142, 'subsample': 0.9923710598637134}\n",
      "\n",
      "Iteration -5\n",
      "ROC-AUC Values is: 0.8719\n",
      " params Chosen here: {'colsample_bylevel': 0.8390144719977516, 'colsample_bytree': 0.8844821246070537, 'gamma': 4.358684608480795e-07, 'learning_rate': 0.7988179462781242, 'max_delta_step': 17, 'max_depth': 3, 'min_child_weight': 1, 'n_estimators': 68, 'reg_alpha': 0.0005266983003701547, 'reg_lambda': 276.5424475574225, 'scale_pos_weight': 0.3016410771843142, 'subsample': 0.9923710598637134}\n",
      "\n",
      "Iteration -6\n",
      "ROC-AUC Values is: 0.8719\n",
      " params Chosen here: {'colsample_bylevel': 0.8390144719977516, 'colsample_bytree': 0.8844821246070537, 'gamma': 4.358684608480795e-07, 'learning_rate': 0.7988179462781242, 'max_delta_step': 17, 'max_depth': 3, 'min_child_weight': 1, 'n_estimators': 68, 'reg_alpha': 0.0005266983003701547, 'reg_lambda': 276.5424475574225, 'scale_pos_weight': 0.3016410771843142, 'subsample': 0.9923710598637134}\n",
      "\n",
      "Iteration -7\n",
      "ROC-AUC Values is: 0.8912\n",
      " params Chosen here: {'colsample_bylevel': 0.6209085649172932, 'colsample_bytree': 0.7776107350396038, 'gamma': 1.3277909848852635e-06, 'learning_rate': 0.5605967693796124, 'max_delta_step': 12, 'max_depth': 30, 'min_child_weight': 3, 'n_estimators': 71, 'reg_alpha': 0.004026635957416632, 'reg_lambda': 0.040887904512512056, 'scale_pos_weight': 109.72255122430063, 'subsample': 0.6612742297240571}\n",
      "\n",
      "Iteration -8\n",
      "ROC-AUC Values is: 0.8912\n",
      " params Chosen here: {'colsample_bylevel': 0.6209085649172932, 'colsample_bytree': 0.7776107350396038, 'gamma': 1.3277909848852635e-06, 'learning_rate': 0.5605967693796124, 'max_delta_step': 12, 'max_depth': 30, 'min_child_weight': 3, 'n_estimators': 71, 'reg_alpha': 0.004026635957416632, 'reg_lambda': 0.040887904512512056, 'scale_pos_weight': 109.72255122430063, 'subsample': 0.6612742297240571}\n",
      "\n",
      "Iteration -9\n",
      "ROC-AUC Values is: 0.9178\n",
      " params Chosen here: {'colsample_bylevel': 0.955923206446829, 'colsample_bytree': 0.7036152301751524, 'gamma': 0.03823613443879595, 'learning_rate': 0.06786442521779147, 'max_delta_step': 8, 'max_depth': 11, 'min_child_weight': 0, 'n_estimators': 69, 'reg_alpha': 0.00022356829889037284, 'reg_lambda': 1.2908532337409298e-07, 'scale_pos_weight': 4.73588486119117, 'subsample': 0.4499578015509351}\n",
      "\n",
      "Iteration -10\n",
      "ROC-AUC Values is: 0.9178\n",
      " params Chosen here: {'colsample_bylevel': 0.955923206446829, 'colsample_bytree': 0.7036152301751524, 'gamma': 0.03823613443879595, 'learning_rate': 0.06786442521779147, 'max_delta_step': 8, 'max_depth': 11, 'min_child_weight': 0, 'n_estimators': 69, 'reg_alpha': 0.00022356829889037284, 'reg_lambda': 1.2908532337409298e-07, 'scale_pos_weight': 4.73588486119117, 'subsample': 0.4499578015509351}\n",
      "\n"
     ]
    }
   ],
   "source": [
    "result = bayes_cv.fit(inputData.values, y.values, callback=print_iterations)"
   ]
  },
  {
   "cell_type": "code",
   "execution_count": 26,
   "metadata": {},
   "outputs": [
    {
     "data": {
      "text/plain": [
       "{'colsample_bylevel': 0.955923206446829,\n",
       " 'colsample_bytree': 0.7036152301751524,\n",
       " 'gamma': 0.03823613443879595,\n",
       " 'learning_rate': 0.06786442521779147,\n",
       " 'max_delta_step': 8,\n",
       " 'max_depth': 11,\n",
       " 'min_child_weight': 0,\n",
       " 'n_estimators': 69,\n",
       " 'reg_alpha': 0.00022356829889037284,\n",
       " 'reg_lambda': 1.2908532337409298e-07,\n",
       " 'scale_pos_weight': 4.73588486119117,\n",
       " 'subsample': 0.4499578015509351}"
      ]
     },
     "execution_count": 26,
     "metadata": {},
     "output_type": "execute_result"
    }
   ],
   "source": [
    "bayes_cv.best_params_"
   ]
  },
  {
   "cell_type": "code",
   "execution_count": 41,
   "metadata": {},
   "outputs": [
    {
     "data": {
      "text/plain": [
       "XGBClassifier(base_score=0.5, booster='gbtree',\n",
       "       colsample_bylevel=0.955923206446829,\n",
       "       colsample_bytree=0.7036152301751524, eval_metric='auc',\n",
       "       gamma=0.03823613443879595, learning_rate=0.06786442521779147,\n",
       "       max_delta_step=8, max_depth=11, min_child_weight=0, missing=None,\n",
       "       n_estimators=69, n_jobs=1, nthread=None,\n",
       "       objective='binary:logistic', random_state=0,\n",
       "       reg_alpha=0.00022356829889037284, reg_lambda=1.2908532337409298e-07,\n",
       "       scale_pos_weight=4.73588486119117, seed=None, silent=1,\n",
       "       subsample=0.4499578015509351, tree_method='exact')"
      ]
     },
     "execution_count": 41,
     "metadata": {},
     "output_type": "execute_result"
    }
   ],
   "source": [
    "xgbClass = xgb.XGBClassifier(\n",
    "        n_jobs = 1,\n",
    "        objective = 'binary:logistic',\n",
    "        eval_metric = 'auc',\n",
    "        silent=1,\n",
    "        tree_method='exact',\n",
    "    colsample_bylevel= 0.955923206446829,\n",
    " colsample_bytree= 0.7036152301751524,\n",
    " gamma= 0.03823613443879595,\n",
    " learning_rate= 0.06786442521779147,\n",
    " max_delta_step= 8,\n",
    " max_depth= 11,\n",
    " min_child_weight= 0,\n",
    " n_estimators= 69,\n",
    " reg_alpha= 0.00022356829889037284,\n",
    " reg_lambda= 1.2908532337409298e-07,\n",
    " scale_pos_weight= 4.73588486119117,\n",
    " subsample= 0.4499578015509351\n",
    "    )\n",
    "\n",
    "xgbClass.fit(inputData.values,y.values)"
   ]
  },
  {
   "cell_type": "code",
   "execution_count": 42,
   "metadata": {},
   "outputs": [
    {
     "name": "stdout",
     "output_type": "stream",
     "text": [
      "   click_id      ip  app  device  os  channel          click_time\n",
      "0         0    5744    9       1   3      107 2017-11-10 04:00:00\n",
      "1         1  119901    9       1   3      466 2017-11-10 04:00:00\n",
      "2         2   72287   21       1  19      128 2017-11-10 04:00:00\n",
      "3         3   78477   15       1  13      111 2017-11-10 04:00:00\n",
      "4         4  123080   12       1  13      328 2017-11-10 04:00:00\n"
     ]
    },
    {
     "data": {
      "text/plain": [
       "Counter({0: 18774980, 1: 15489})"
      ]
     },
     "execution_count": 42,
     "metadata": {},
     "output_type": "execute_result"
    }
   ],
   "source": [
    "X_test = pd.read_csv(\"C:/QuoraQuestion/test.csv/test.csv\",parse_dates=['click_time'])\n",
    "print(X_test.head())\n",
    "x_test_1 = X_test.drop(['click_time'], axis=1)\n",
    "results_1 =xgbClass.predict(x_test_1.values)\n",
    "Counter(results_1)\n",
    "#x_test_1.head()"
   ]
  },
  {
   "cell_type": "code",
   "execution_count": null,
   "metadata": {},
   "outputs": [],
   "source": []
  }
 ],
 "metadata": {
  "kernelspec": {
   "display_name": "Python 3",
   "language": "python",
   "name": "python3"
  },
  "language_info": {
   "codemirror_mode": {
    "name": "ipython",
    "version": 3
   },
   "file_extension": ".py",
   "mimetype": "text/x-python",
   "name": "python",
   "nbconvert_exporter": "python",
   "pygments_lexer": "ipython3",
   "version": "3.6.6"
  }
 },
 "nbformat": 4,
 "nbformat_minor": 2
}
